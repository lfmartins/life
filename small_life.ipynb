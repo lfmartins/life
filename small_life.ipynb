{
 "cells": [
  {
   "cell_type": "markdown",
   "metadata": {},
   "source": [
    "In this notebook, we answer [a \"Riddler Classic\" question posed](https://fivethirtyeight.com/features/can-you-solve-the-chess-mystery/) in The Riddler section of  [FiveThirtyEight](https://fivethirtyeight.com)\n",
    "\n",
    "The question concerns John Conway's Game of Life, originally made popular by a [Mathematical Games column](https://web.stanford.edu/class/sts145/Library/life.pdf) by Martin Gardner.\n",
    "\n",
    "The problem, as proposed in The Riddler, is:\n",
    "\n",
    ">Now suppose we were to replace the infinite grid with a finite grid that has periodic boundary conditions, so that cells in the first row are neighbors with cells in the last row, and cells in the first column are neighbors with cells in the last column. If there are three rows and N columns, what is the smallest value of N that can support an oscillator?\n",
    "\n",
    "Here, we present a computational solution to this problem. We investigate all possible initial configurations and follow their evolution, to identify periodicities.\n",
    "\n",
    "In a finite board with periodic boundaries, the total number of possible configurations is finite, so all evolutions are *eventually periodic*, that is, after a finite number of steps it settles down in a periodic pattern, as illustrated below:\n",
    "\n",
    "<img src=\"life-evolution.png\" width=\"50%\" height=\"50%\">\n",
    "\n",
    "We call the initial segment $C_0,C_1,\\ldots,C_{t-1}$ the *transient part* and the final cycle $P_0,P_2,\\ldots,P_{k-1}$ the *periodic part* of the evolution. In the picture above, the length of the transient part is $t$ and the length of the periodic part is $k$. The length of the periodic part is called the *eventual period* of the evolution.\n",
    "\n",
    "There are two possibilities for this periodic pattern:\n",
    "\n",
    "- It can consist of a state that just repeats itself indefinitely. For example, and empty board will remain empty forever. Borrowing terminology from Markov chains, we call these states *absorbing*. In other words, an absorbing state is symply a \"cycle\" of length 1.\n",
    "- Alternatively, the evolution may settle down on a cycle of period two or more, which we call an *oscillator*.\n",
    "\n",
    "This suggests the following algorithm to search for oscillators:\n",
    "\n",
    "1. For each possible initial configuration $C_0$, do the following:\n",
    "2. Compute the successive iterations $C_1,C_2,\\ldots$ until a periodicity is detected.\n",
    "3. If the period of the tail is two or more, we have found an oscillator.\n",
    "\n",
    "Since the number of possible initial configurations for a $3\\times n$ board is $2^{3n}$, it is only possible to carry out the computations for small values of $n$. We hope that we can find an oscillator with a small enough value of $n$.\n",
    "\n",
    "Let's now get to the code. To represent a Game of Life configuration, we define a Python class called `life_pattern`, defined in the cell below."
   ]
  },
  {
   "cell_type": "code",
   "execution_count": 8,
   "metadata": {},
   "outputs": [],
   "source": [
    "def tuplefy_rectangle(rect):\n",
    "    return tuple([tuple(row) for row in rect])\n",
    "\n",
    "class life_pattern(object):\n",
    "    directions = ((1,0), (1,1), (0,1), (-1,1), (-1,0), (-1,-1), (0,-1), (1,-1))\n",
    "    \n",
    "    def __init__(self, config):\n",
    "        self._config = tuplefy_rectangle(config)\n",
    "        self._height = len(config)\n",
    "        self._width = len(config[0])\n",
    "\n",
    "    def __str__(self):\n",
    "        return str(self.config)\n",
    "\n",
    "    def __repr__(self):\n",
    "        return 'life_pattern(config={})'.format(self._config)\n",
    "    \n",
    "    def __eq__(self, other):\n",
    "        return self._config == other._config\n",
    "    \n",
    "    def __ne__(self, other):\n",
    "        return self._config != other._config\n",
    "    \n",
    "    def __hash__(self):\n",
    "        return hash(self._config)\n",
    "    \n",
    "    def width(self):\n",
    "        return self._width\n",
    "    \n",
    "    def height(self):\n",
    "        return self._height\n",
    "    \n",
    "    def pretty_str(self):\n",
    "        s = ''\n",
    "        for row in self._config:\n",
    "            s += ''.join('o' if v==1 else '.' for v in row) + '\\n'\n",
    "        return s\n",
    "    \n",
    "    def copy(self):\n",
    "        return life_pattern(self._config)\n",
    "\n",
    "    def apply_symmetry(self, symmetry):\n",
    "        new_config = [len(row)*[None] for row in self._config]\n",
    "        for i, row in enumerate(symmetry):\n",
    "            for j, pair in enumerate(row):\n",
    "                k, l = pair\n",
    "                new_config[i][j] = self._config[k][l]\n",
    "        return life_pattern(new_config)\n",
    "\n",
    "    def step(self):\n",
    "        new_config = [self._width*[0] for _ in range(self._height)]\n",
    "        for i in range(self._height):\n",
    "            for j in range(self._width):\n",
    "                s = 0\n",
    "                for di, dj in life_pattern.directions:\n",
    "                    ii = (i + di) % self._height\n",
    "                    jj = (j + dj) % self._width\n",
    "                    s += self._config[ii][jj]\n",
    "                if s == 3 or (self._config[i][j] == 1 and s == 2):\n",
    "                    new_config[i][j] = 1\n",
    "        return life_pattern(new_config)"
   ]
  },
  {
   "cell_type": "markdown",
   "metadata": {},
   "source": [
    "A board configuration is stored as a \"tuple of tuples\", which we informally refer to as a *rectangle*. For example, a single glider in a $6\\times 5$ board can be represented by:\n",
    "\n",
    "    ((0,1,0,0,0),\n",
    "     (0,0,1,0,0),\n",
    "     (1,1,1,0,0),\n",
    "     (0,0,0,0,0),\n",
    "     (0,0,0,0,0))\n",
    "\n",
    "To create a `life_board` object representing this pattern we can use:"
   ]
  },
  {
   "cell_type": "code",
   "execution_count": 9,
   "metadata": {},
   "outputs": [
    {
     "name": "stdout",
     "output_type": "stream",
     "text": [
      ".o...\n",
      "..o..\n",
      "ooo..\n",
      ".....\n",
      ".....\n",
      "\n"
     ]
    }
   ],
   "source": [
    "glider = life_pattern(((0,1,0,0,0),\n",
    "                       (0,0,1,0,0),\n",
    "                       (1,1,1,0,0),\n",
    "                       (0,0,0,0,0),\n",
    "                       (0,0,0,0,0)))\n",
    "print(glider.pretty_str())"
   ]
  },
  {
   "cell_type": "markdown",
   "metadata": {},
   "source": [
    "The method `pretty_str()` returns a string with a pretty representation of the board.\n",
    "\n",
    "The evolution of the pattern can be computed as follows:"
   ]
  },
  {
   "cell_type": "code",
   "execution_count": 10,
   "metadata": {},
   "outputs": [
    {
     "name": "stdout",
     "output_type": "stream",
     "text": [
      ".o...\n",
      "..o..\n",
      "ooo..\n",
      ".....\n",
      ".....\n",
      "\n",
      ".....\n",
      "o.o..\n",
      ".oo..\n",
      ".o...\n",
      ".....\n",
      "\n",
      ".....\n",
      "..o..\n",
      "o.o..\n",
      ".oo..\n",
      ".....\n",
      "\n",
      ".....\n",
      ".o...\n",
      "..oo.\n",
      ".oo..\n",
      ".....\n",
      "\n",
      ".....\n",
      "..o..\n",
      "...o.\n",
      ".ooo.\n",
      ".....\n",
      "\n"
     ]
    }
   ],
   "source": [
    "pattern = glider.copy()\n",
    "print(pattern.pretty_str())\n",
    "for i in range(4):\n",
    "    pattern = pattern.step()\n",
    "    print(pattern.pretty_str())"
   ]
  },
  {
   "cell_type": "markdown",
   "metadata": {},
   "source": [
    "Objects of type `life_pattern` are considered to be immutable. Calling the method `step()` returns a new object. For this reason, to preserve the initial state we first create a copy:\n",
    "\n",
    "    pattern = glider.copy()\n",
    "    \n",
    "Then, in the loop, we compute the successive steps and print each iteration.\n",
    "\n",
    "Not doing the computation \"in place\" seems to be wasteful and inefficient, but is what fits better our purposes. We will want to keep a record of the whole evolution of a pattern, so creating a new object in each step makes sense. Furthermore, we will want to store patterns in Python sets and dictionaries, so they have to be immutable.\n",
    "\n",
    "The next function provides a better way to print the whole history of a pattern's evolution:"
   ]
  },
  {
   "cell_type": "code",
   "execution_count": 11,
   "metadata": {},
   "outputs": [],
   "source": [
    "def print_history(history):\n",
    "    print_list = [pattern.pretty_str() for pattern in history]\n",
    "    split_list = [s.split('\\n')[:-1] for s in print_list]\n",
    "    for row in list(zip(*split_list)):\n",
    "        print(' '.join(row))"
   ]
  },
  {
   "cell_type": "markdown",
   "metadata": {},
   "source": [
    "Using this, we can print the evolution of the glider pattern as follows:"
   ]
  },
  {
   "cell_type": "code",
   "execution_count": 12,
   "metadata": {},
   "outputs": [
    {
     "name": "stdout",
     "output_type": "stream",
     "text": [
      ".o... ..... ..... ..... .....\n",
      "..o.. o.o.. ..o.. .o... ..o..\n",
      "ooo.. .oo.. o.o.. ..oo. ...o.\n",
      "..... .o... .oo.. .oo.. .ooo.\n",
      "..... ..... ..... ..... .....\n"
     ]
    }
   ],
   "source": [
    "pattern = glider.copy()\n",
    "history = [pattern]\n",
    "for i in range(4):\n",
    "    pattern = pattern.step()\n",
    "    history.append(pattern)\n",
    "print_history(history)"
   ]
  },
  {
   "cell_type": "markdown",
   "metadata": {},
   "source": [
    "The following cell shows how to extend the computation to continue the pattern evolution. Computing this cell repeately (using `<control-enter>`) yields an \"animation\" of the evolution, four steps at a time."
   ]
  },
  {
   "cell_type": "code",
   "execution_count": 22,
   "metadata": {},
   "outputs": [
    {
     "name": "stdout",
     "output_type": "stream",
     "text": [
      ".o... ..... ..... ..... .....\n",
      "..o.. o.o.. ..o.. .o... ..o..\n",
      "ooo.. .oo.. o.o.. ..oo. ...o.\n",
      "..... .o... .oo.. .oo.. .ooo.\n",
      "..... ..... ..... ..... .....\n"
     ]
    }
   ],
   "source": [
    "pattern = history[-1].copy()\n",
    "history = [pattern]\n",
    "for i in range(4):\n",
    "    pattern = pattern.step()\n",
    "    history.append(pattern)\n",
    "print_history(history)"
   ]
  },
  {
   "cell_type": "markdown",
   "metadata": {},
   "source": [
    "We now consider detection of periodicities. A naive approach would be to record the whole history and check if each new pattern has already appeared. However, there is a well-known shortcut, known as *Floyd's cycle detection algorithm*, first described by Donald Knuth. For a general discussion of the algorithm and its history, see the [Wikipedia article on Floyd's algorithm](https://en.wikipedia.org/wiki/Cycle_detection)\n",
    "\n",
    "Given a sequence successive configurations $C_0,C_1,C_2,\\ldots$ Floyd's algorithm searches periodicities by looking for an index $k$ for which $C_{k}=C_{2k}$. This can be done without recording the whole evolution history, iterating both a single step of the algorithm (the *tortoise*) and two steps of the algorithm (the *hare*). The algorithm below is a direct adaptation of the code in the Wikipedia article linked above."
   ]
  },
  {
   "cell_type": "code",
   "execution_count": 23,
   "metadata": {},
   "outputs": [],
   "source": [
    "def detect_cycle(pattern):\n",
    "    # Phase 1: find a repetition\n",
    "    tortoise = pattern.step()\n",
    "    hare = tortoise.step()\n",
    "    while tortoise != hare:\n",
    "        tortoise = tortoise.step()\n",
    "        hare = hare.step().step()\n",
    "    # Phase 2: find position of first repetition\n",
    "    first_rep = 0\n",
    "    tortoise = pattern.copy()\n",
    "    while tortoise != hare:\n",
    "        tortoise = tortoise.step()\n",
    "        hare = hare.step()\n",
    "        first_rep += 1\n",
    "    # Phase 3: find the length of the cycle\n",
    "    period = 1\n",
    "    hare = tortoise.step()\n",
    "    while tortoise != hare:\n",
    "        hare = hare.step()\n",
    "        period += 1\n",
    "    return first_rep, period"
   ]
  },
  {
   "cell_type": "code",
   "execution_count": 24,
   "metadata": {},
   "outputs": [
    {
     "data": {
      "text/plain": [
       "(0, 20)"
      ]
     },
     "execution_count": 24,
     "metadata": {},
     "output_type": "execute_result"
    }
   ],
   "source": [
    "glider = life_pattern(((0,1,0,0,0),\n",
    "                       (0,0,1,0,0),\n",
    "                       (1,1,1,0,0),\n",
    "                       (0,0,0,0,0),\n",
    "                       (0,0,0,0,0)))\n",
    "first_rep, period = detect_cycle(glider)\n",
    "first_rep, period"
   ]
  },
  {
   "cell_type": "markdown",
   "metadata": {},
   "source": [
    "This tells us that, in the $6\\times 5$ board, the glider pattern repeats with a period of 20. We can verify this computing the whole history of the evolution:"
   ]
  },
  {
   "cell_type": "code",
   "execution_count": 25,
   "metadata": {},
   "outputs": [
    {
     "name": "stdout",
     "output_type": "stream",
     "text": [
      ".o... ..... ..... ..... ..... ..... ..... ..... ..... ...o.\n",
      "..o.. o.o.. ..o.. .o... ..o.. ..... ..... ..... ..... .....\n",
      "ooo.. .oo.. o.o.. ..oo. ...o. .o.o. ...o. ..o.. ...o. .....\n",
      "..... .o... .oo.. .oo.. .ooo. ..oo. .o.o. ...oo ....o ..o.o\n",
      "..... ..... ..... ..... ..... ..o.. ..oo. ..oo. ..ooo ...oo\n",
      "\n",
      "...oo ...oo o..oo o...o o..o. oo... .o... .o..o .o... o.... .o...\n",
      "..... ..... ..... ....o o...o o...o oo..o oo... .o..o .oo.. ..o..\n",
      "..... ..... ..... ..... ..... ..... ..... o.... oo... oo... ooo..\n",
      "....o ...o. ....o ..... ..... ..... ..... ..... ..... ..... .....\n",
      "..o.o o...o o.... o..o. o.... ....o o.... ..... ..... ..... .....\n"
     ]
    }
   ],
   "source": [
    "pattern = glider.copy()\n",
    "history = [pattern]\n",
    "for i in range(20):\n",
    "        pattern = pattern.step()\n",
    "        history.append(pattern)\n",
    "print_history(history[:10])\n",
    "print()\n",
    "print_history(history[10:])"
   ]
  },
  {
   "cell_type": "markdown",
   "metadata": {},
   "source": [
    "We are now ready to look for oscillator in the general $3\\times n$ board. We take a brute-force approach, testing for all possible initial patterns. We can however, save some computational effort by not repeating the computation for symmetric patterns. A general rectangle has 4 symmetries: the identity, horizontal reflection, vertical reflection and 180 degree rotation. If the rectangle is a square, there are a total of 8 symmetries. The following function generates the symmetries of general rectangle:"
   ]
  },
  {
   "cell_type": "code",
   "execution_count": 26,
   "metadata": {},
   "outputs": [],
   "source": [
    "def rectangle_symmetries(m, n, skip_id=True):\n",
    "    start_rect = [[(i,j) for j in range(n)] for i in range(m)]\n",
    "    if not skip_id:\n",
    "        yield start_rect\n",
    "    new_rect = list([list(reversed(row)) for row in start_rect])\n",
    "    yield new_rect\n",
    "    new_rect = list(reversed(start_rect))\n",
    "    yield new_rect\n",
    "    new_rect = [list(reversed(row)) for row in new_rect]\n",
    "    yield new_rect\n",
    "    if m != n:\n",
    "        return\n",
    "    start_rect = [[(j,i) for j in range(n)] for i in range(m)]\n",
    "    yield start_rect\n",
    "    new_rect = [list(reversed(row)) for row in start_rect]\n",
    "    yield new_rect\n",
    "    new_rect = list(reversed(start_rect))\n",
    "    yield new_rect\n",
    "    new_rect = [list(reversed(row)) for row in new_rect]\n",
    "    yield new_rect"
   ]
  },
  {
   "cell_type": "markdown",
   "metadata": {},
   "source": [
    "For example, the following are the symmetries of a $3\\times 5$ rectangle:"
   ]
  },
  {
   "cell_type": "code",
   "execution_count": 27,
   "metadata": {},
   "outputs": [
    {
     "name": "stdout",
     "output_type": "stream",
     "text": [
      "(0, 0) (0, 1) (0, 2) (0, 3) (0, 4) \n",
      "(1, 0) (1, 1) (1, 2) (1, 3) (1, 4) \n",
      "(2, 0) (2, 1) (2, 2) (2, 3) (2, 4) \n",
      "\n",
      "(0, 4) (0, 3) (0, 2) (0, 1) (0, 0) \n",
      "(1, 4) (1, 3) (1, 2) (1, 1) (1, 0) \n",
      "(2, 4) (2, 3) (2, 2) (2, 1) (2, 0) \n",
      "\n",
      "(2, 0) (2, 1) (2, 2) (2, 3) (2, 4) \n",
      "(1, 0) (1, 1) (1, 2) (1, 3) (1, 4) \n",
      "(0, 0) (0, 1) (0, 2) (0, 3) (0, 4) \n",
      "\n",
      "(2, 4) (2, 3) (2, 2) (2, 1) (2, 0) \n",
      "(1, 4) (1, 3) (1, 2) (1, 1) (1, 0) \n",
      "(0, 4) (0, 3) (0, 2) (0, 1) (0, 0) \n",
      "\n"
     ]
    }
   ],
   "source": [
    "for symmetry in rectangle_symmetries(3, 5, False):\n",
    "    for row in symmetry:\n",
    "        for elem in row:\n",
    "            print(elem, end=' ')\n",
    "        print()\n",
    "    print()"
   ]
  },
  {
   "cell_type": "markdown",
   "metadata": {},
   "source": [
    "For a $3\\times 3$ rectangle we get 8 symmetries: "
   ]
  },
  {
   "cell_type": "code",
   "execution_count": 28,
   "metadata": {},
   "outputs": [
    {
     "name": "stdout",
     "output_type": "stream",
     "text": [
      "(0, 0) (0, 1) (0, 2) \n",
      "(1, 0) (1, 1) (1, 2) \n",
      "(2, 0) (2, 1) (2, 2) \n",
      "\n",
      "(0, 2) (0, 1) (0, 0) \n",
      "(1, 2) (1, 1) (1, 0) \n",
      "(2, 2) (2, 1) (2, 0) \n",
      "\n",
      "(2, 0) (2, 1) (2, 2) \n",
      "(1, 0) (1, 1) (1, 2) \n",
      "(0, 0) (0, 1) (0, 2) \n",
      "\n",
      "(2, 2) (2, 1) (2, 0) \n",
      "(1, 2) (1, 1) (1, 0) \n",
      "(0, 2) (0, 1) (0, 0) \n",
      "\n",
      "(0, 0) (1, 0) (2, 0) \n",
      "(0, 1) (1, 1) (2, 1) \n",
      "(0, 2) (1, 2) (2, 2) \n",
      "\n",
      "(2, 0) (1, 0) (0, 0) \n",
      "(2, 1) (1, 1) (0, 1) \n",
      "(2, 2) (1, 2) (0, 2) \n",
      "\n",
      "(0, 2) (1, 2) (2, 2) \n",
      "(0, 1) (1, 1) (2, 1) \n",
      "(0, 0) (1, 0) (2, 0) \n",
      "\n",
      "(2, 2) (1, 2) (0, 2) \n",
      "(2, 1) (1, 1) (0, 1) \n",
      "(2, 0) (1, 0) (0, 0) \n",
      "\n"
     ]
    }
   ],
   "source": [
    "for symmetry in rectangle_symmetries(3, 3, False):\n",
    "    for row in symmetry:\n",
    "        for elem in row:\n",
    "            print(elem, end=' ')\n",
    "        print()\n",
    "    print()"
   ]
  },
  {
   "cell_type": "markdown",
   "metadata": {},
   "source": [
    "The next function searches for cycles in all possible starting cofigurations in a $3\\times n$ board. Each starting configurations is stored in a Python set, so that we can avoid checking symmetric configurations. We record all oscillators found that way in a set object."
   ]
  },
  {
   "cell_type": "code",
   "execution_count": 34,
   "metadata": {},
   "outputs": [],
   "source": [
    "from itertools import product, combinations\n",
    "def find_oscillators(n):\n",
    "    # Generate list of all pairs (i,j) where 0<=i<3 and 0<=j<n\n",
    "    pairs = list(product(range(3), range(n)))\n",
    "    visited = set()\n",
    "    oscillators = set()\n",
    "    # The following iterated loops generates all subsets\n",
    "    # of the set of pairs\n",
    "    for k in range(len(pairs)+1):\n",
    "        for subset in combinations(pairs, k):\n",
    "            # Generate initial pattern\n",
    "            config = [n*[0] for _ in range(3)]\n",
    "            for i, j in subset:\n",
    "                config[i][j] = 1\n",
    "            pattern = life_pattern(config)\n",
    "            # Check if pattern is symmetric to a pattern already visited\n",
    "            if any([pattern.apply_symmetry(symmetry) in visited\n",
    "                   for symmetry in rectangle_symmetries(3,n)]):\n",
    "                continue\n",
    "            # If this is a new pattern, add it to visited patterns\n",
    "            # and check for periodicities\n",
    "            visited.add(pattern)\n",
    "            first_rep, period = detect_cycle(pattern)\n",
    "            # Check if we have an oscillator\n",
    "            # If we do, recompute the sequence to find the oscillator\n",
    "            # We can reuse the pattern because we don't need it for\n",
    "            # anything else\n",
    "            if period > 1:\n",
    "                for i in range(first_rep):\n",
    "                    pattern = pattern.step()\n",
    "                # Add the pattern to the set of oscillators. We also add it\n",
    "                # to the set of visited patterns\n",
    "                oscillators.add(pattern)\n",
    "                visited.add(pattern)\n",
    "    return oscillators"
   ]
  },
  {
   "cell_type": "code",
   "execution_count": 35,
   "metadata": {},
   "outputs": [
    {
     "name": "stdout",
     "output_type": "stream",
     "text": [
      "n=1, number of oscillators found: 0\n",
      "n=2, number of oscillators found: 0\n",
      "n=3, number of oscillators found: 0\n",
      "n=4, number of oscillators found: 3\n",
      ".oo.\n",
      ".oo.\n",
      ".oo.\n",
      "\n",
      "oo..\n",
      "oo..\n",
      "oo..\n",
      "\n",
      "o..o\n",
      "o..o\n",
      "o..o\n",
      "\n"
     ]
    }
   ],
   "source": [
    "for n in range(1, 5):\n",
    "    oscillators = find_oscillators(n)\n",
    "    count = len(oscillators)\n",
    "    print('n={}, number of oscillators found: {}'.format(n, count))\n",
    "    if count > 0:\n",
    "        for pattern in oscillators:\n",
    "            print(pattern.pretty_str())"
   ]
  },
  {
   "cell_type": "markdown",
   "metadata": {},
   "source": [
    "This answers the question asked in The Riddler: the smallest value of $n$ for which there are oscillators is 4. The following cell computes the evolution of each of the oscillators:"
   ]
  },
  {
   "cell_type": "code",
   "execution_count": 38,
   "metadata": {},
   "outputs": [
    {
     "name": "stdout",
     "output_type": "stream",
     "text": [
      ".oo. o..o .oo.\n",
      ".oo. o..o .oo.\n",
      ".oo. o..o .oo.\n",
      "\n",
      "oo.. ..oo oo..\n",
      "oo.. ..oo oo..\n",
      "oo.. ..oo oo..\n",
      "\n",
      "o..o .oo. o..o\n",
      "o..o .oo. o..o\n",
      "o..o .oo. o..o\n",
      "\n"
     ]
    }
   ],
   "source": [
    "oscillators = find_oscillators(4)\n",
    "for pattern in oscillators:\n",
    "    # Compute the period\n",
    "    first_rep, period = detect_cycle(pattern)\n",
    "    history = [pattern]\n",
    "    for i in range(period):\n",
    "        pattern = pattern.step()\n",
    "        history.append(pattern)\n",
    "    print_history(history)\n",
    "    print()"
   ]
  },
  {
   "cell_type": "markdown",
   "metadata": {},
   "source": [
    "Notice that the pattern:\n",
    "\n",
    "    ..oo\n",
    "    ..oo\n",
    "    ..oo\n",
    "    \n",
    "does not appear in the list of oscillator because it is symmetric to the pattern:\n",
    "\n",
    "    oo..\n",
    "    oo..\n",
    "    oo..\n",
    "\n",
    "We conclude that there is a total of 4 oscillators on a $3\\times 4$ board.\n",
    "\n",
    "We can continue the investigation, trying to find oscillators on larger boards:"
   ]
  },
  {
   "cell_type": "code",
   "execution_count": 39,
   "metadata": {},
   "outputs": [
    {
     "name": "stdout",
     "output_type": "stream",
     "text": [
      "Number of oscillators for n=5: 0\n"
     ]
    }
   ],
   "source": [
    "n = 5\n",
    "oscillators = find_oscillators(n)\n",
    "print(\"Number of oscillators for n={}: {}\".format(n, len(oscillators)))"
   ]
  },
  {
   "cell_type": "code",
   "execution_count": 40,
   "metadata": {},
   "outputs": [
    {
     "name": "stdout",
     "output_type": "stream",
     "text": [
      "Number of oscillators for n=6: 0\n"
     ]
    }
   ],
   "source": [
    "n = 6\n",
    "oscillators = find_oscillators(n)\n",
    "print(\"Number of oscillators for n={}: {}\".format(n, len(oscillators)))"
   ]
  },
  {
   "cell_type": "markdown",
   "metadata": {},
   "source": [
    "Curiously, there are no oscillators for $n=5$ or $n=6$!\n",
    "\n",
    "Let's try to find oscillators for $n=7$. \n",
    "\n",
    "**Warning:** The following cell will take a long time to compute!"
   ]
  },
  {
   "cell_type": "code",
   "execution_count": 41,
   "metadata": {},
   "outputs": [
    {
     "name": "stdout",
     "output_type": "stream",
     "text": [
      "Number of oscillators for n=7: 145\n"
     ]
    }
   ],
   "source": [
    "n = 7\n",
    "oscillators = find_oscillators(n)\n",
    "print(\"Number of oscillators for n={}: {}\".format(n, len(oscillators)))"
   ]
  },
  {
   "cell_type": "markdown",
   "metadata": {},
   "source": [
    "So, there are a lot of oscillators for $n=7$! Let's print them. To save space, let's print all the disjoint cycles that we can find.\n",
    "\n",
    "*Notice that our code does not find all oscillators, since we avoid symmetries*. Of course, it is possible to find all the oscillators by applying all possible symmetries to the ones we found."
   ]
  },
  {
   "cell_type": "code",
   "execution_count": 43,
   "metadata": {},
   "outputs": [
    {
     "name": "stdout",
     "output_type": "stream",
     "text": [
      "Cycle 1:\n",
      "..o..o. ..o..oo o.o.... o.o...o ..o..o.\n",
      "..oo.o. ..oo.oo o.oo... o.oo..o ..oo.o.\n",
      "...o.o. ...o.oo o..o... o..o..o ...o.o.\n",
      "\n",
      "Cycle 2:\n",
      "..oo.o. ..oo.oo o.oo... o.oo..o ..oo.o.\n",
      "..o..o. ..o..oo o.o.... o.o...o ..o..o.\n",
      "...o.o. ...o.oo o..o... o..o..o ...o.o.\n",
      "\n",
      "Cycle 3:\n",
      "o...o.. oo..o.. ..o.o.. .oo.o.. o...o..\n",
      "o....o. oo...o. ..o..o. .oo..o. o....o.\n",
      "o...oo. oo..oo. ..o.oo. .oo.oo. o...oo.\n",
      "\n",
      "Cycle 4:\n",
      "o.oo..o o...o.o o..oo.o o.o...o o.oo..o\n",
      "o.oo..o o...o.o o..oo.o o.o...o o.oo..o\n",
      "..oo... ....o.. ...oo.. ..o.... ..oo...\n",
      "\n",
      "Cycle 5:\n",
      "o.oo..o o...o.o o..oo.o o.o...o o.oo..o\n",
      "..oo... ....o.. ...oo.. ..o.... ..oo...\n",
      "o.oo..o o...o.o o..oo.o o.o...o o.oo..o\n",
      "\n",
      "Cycle 6:\n",
      "oo...o. ..o.oo. .oo...o ...o.oo o.oo... o...o.o .o.oo.. oo...o.\n",
      "oo...o. ..o.oo. .oo...o ...o.oo o.oo... o...o.o .o.oo.. oo...o.\n",
      "oo...o. ..o.oo. .oo...o ...o.oo o.oo... o...o.o .o.oo.. oo...o.\n",
      "\n",
      "Cycle 7:\n",
      "...oo.o o..oo.o .o.oo.. oo.oo.. ...oo.o\n",
      "...oo.o o..oo.o .o.oo.. oo.oo.. ...oo.o\n",
      "......o o.....o .o..... oo..... ......o\n",
      "\n",
      "Cycle 8:\n",
      "..o..o. .oo..o. o....o. oo...o. ..o..o.\n",
      "..o.oo. .oo.oo. o...oo. oo..oo. ..o.oo.\n",
      "..o.o.. .oo.o.. o...o.. oo..o.. ..o.o..\n",
      "\n",
      "Cycle 9:\n",
      "oo..o.. ....o.o o...o.o .o..o.. oo..o..\n",
      "oo.oo.. ...oo.o o..oo.o .o.oo.. oo.oo..\n",
      "oo.o... ...o..o o..o..o .o.o... oo.o...\n",
      "\n",
      "Cycle 10:\n",
      "o.oo..o ..oo.o. ..oo.oo o.oo... o.oo..o\n",
      "o..o..o ...o.o. ...o.oo o..o... o..o..o\n",
      "o.o...o ..o..o. ..o..oo o.o.... o.o...o\n",
      "\n",
      "Cycle 11:\n",
      "oo..oo. oo.o... oo.oo.. oo...o. oo..oo.\n",
      ".o..oo. .o.o... .o.oo.. .o...o. .o..oo.\n",
      "o...oo. o..o... o..oo.. o....o. o...oo.\n",
      "\n",
      "Cycle 12:\n",
      "oo.o... oo.oo.. oo...o. oo..oo. oo.o...\n",
      "o..o... o..oo.. o....o. o...oo. o..o...\n",
      ".o.o... .o.oo.. .o...o. .o..oo. .o.o...\n",
      "\n",
      "Cycle 13:\n",
      ".o..oo. .o....o .o...oo .o..o.. .o..oo.\n",
      ".oo.oo. .oo...o .oo..oo .oo.o.. .oo.oo.\n",
      "..o.oo. ..o...o ..o..oo ..o.o.. ..o.oo.\n",
      "\n",
      "Cycle 14:\n",
      "...oo.o o..oo.o .o.oo.. oo.oo.. ...oo.o\n",
      "....o.o o...o.o .o..o.. oo..o.. ....o.o\n",
      "...o..o o..o..o .o.o... oo.o... ...o..o\n",
      "\n",
      "Cycle 15:\n",
      ".oo.o.. o...oo. oo.o... ...oo.o o.o...o ..oo.o. .o...oo .oo.o..\n",
      ".oo.o.. o...oo. oo.o... ...oo.o o.o...o ..oo.o. .o...oo .oo.o..\n",
      ".oo.o.. o...oo. oo.o... ...oo.o o.o...o ..oo.o. .o...oo .oo.o..\n",
      "\n",
      "Cycle 16:\n",
      ".oo.o.. .oo.oo. .oo...o .oo..oo .oo.o..\n",
      "....o.. ....oo. ......o .....oo ....o..\n",
      ".oo.o.. .oo.oo. .oo...o .oo..oo .oo.o..\n",
      "\n",
      "Cycle 17:\n",
      ".oo..o. o....o. oo...o. ..o..o. .oo..o.\n",
      ".oo.o.. o...o.. oo..o.. ..o.o.. .oo.o..\n",
      ".oo.oo. o...oo. oo..oo. ..o.oo. .oo.oo.\n",
      "\n",
      "Cycle 18:\n",
      "o.oo..o o...o.o o..oo.o o.o...o o.oo..o\n",
      "o.oo... o...o.. o..oo.. o.o.... o.oo...\n",
      "..oo..o ....o.o ...oo.o ..o...o ..oo..o\n",
      "\n",
      "Cycle 19:\n",
      "o..oo.. o.o.... o.oo... o...o.. o..oo..\n",
      "o..oo.o o.o...o o.oo..o o...o.o o..oo.o\n",
      "...oo.o ..o...o ..oo..o ....o.o ...oo.o\n",
      "\n",
      "Cycle 20:\n",
      ".o.o... oo.o... ...o..o o..o..o .o.o...\n",
      ".o.oo.. oo.oo.. ...oo.o o..oo.o .o.oo..\n",
      ".o..o.. oo..o.. ....o.o o...o.o .o..o..\n",
      "\n",
      "Cycle 21:\n",
      ".oo.o.. o...o.. oo..o.. ..o.o.. .oo.o..\n",
      ".oo.oo. o...oo. oo..oo. ..o.oo. .oo.oo.\n",
      ".oo..o. o....o. oo...o. ..o..o. .oo..o.\n",
      "\n",
      "Cycle 22:\n",
      "o...oo. oo..oo. ..o.oo. .oo.oo. o...oo.\n",
      "o...o.. oo..o.. ..o.o.. .oo.o.. o...o..\n",
      "o....o. oo...o. ..o..o. .oo..o. o....o.\n",
      "\n",
      "Cycle 23:\n",
      "oo.o... ...o..o o..o..o .o.o... oo.o...\n",
      "oo..o.. ....o.o o...o.o .o..o.. oo..o..\n",
      "oo.oo.. ...oo.o o..oo.o .o.oo.. oo.oo..\n",
      "\n",
      "Cycle 24:\n",
      "...oo.o o..oo.o .o.oo.. oo.oo.. ...oo.o\n",
      "...o..o o..o..o .o.o... oo.o... ...o..o\n",
      "....o.o o...o.o .o..o.. oo..o.. ....o.o\n",
      "\n",
      "Cycle 25:\n",
      "o....o. o...oo. o..o... o..oo.. o....o.\n",
      "oo...o. oo..oo. oo.o... oo.oo.. oo...o.\n",
      ".o...o. .o..oo. .o.o... .o.oo.. .o...o.\n",
      "\n",
      "Cycle 26:\n",
      "..oo.o. ..oo.oo o.oo... o.oo..o ..oo.o.\n",
      "..oo.o. ..oo.oo o.oo... o.oo..o ..oo.o.\n",
      ".....o. .....oo o...... o.....o .....o.\n",
      "\n",
      "Cycle 27:\n",
      "..oo.o. ..oo.oo o.oo... o.oo..o ..oo.o.\n",
      ".....o. .....oo o...... o.....o .....o.\n",
      "..oo.o. ..oo.oo o.oo... o.oo..o ..oo.o.\n",
      "\n",
      "Cycle 28:\n",
      "oo...o. oo..oo. oo.o... oo.oo.. oo...o.\n",
      "oo...o. oo..oo. oo.o... oo.oo.. oo...o.\n",
      ".....o. ....oo. ...o... ...oo.. .....o.\n",
      "\n",
      "Cycle 29:\n",
      "oo..oo. ..o.oo. .oo.oo. o...oo. oo..oo.\n",
      "oo...o. ..o..o. .oo..o. o....o. oo...o.\n",
      "oo..o.. ..o.o.. .oo.o.. o...o.. oo..o..\n",
      "\n",
      "Cycle 30:\n",
      "o..o..o ...o.o. ...o.oo o..o... o..o..o\n",
      "o.o...o ..o..o. ..o..oo o.o.... o.o...o\n",
      "o.oo..o ..oo.o. ..oo.oo o.oo... o.oo..o\n",
      "\n",
      "Cycle 31:\n",
      "...o.o. ...o.oo o..o... o..o..o ...o.o.\n",
      "..oo.o. ..oo.oo o.oo... o.oo..o ..oo.o.\n",
      "..o..o. ..o..oo o.o.... o.o...o ..o..o.\n",
      "\n",
      "Cycle 32:\n",
      ".oo.o.. .oo.oo. .oo...o .oo..oo .oo.o..\n",
      ".oo.o.. .oo.oo. .oo...o .oo..oo .oo.o..\n",
      "....o.. ....oo. ......o .....oo ....o..\n",
      "\n",
      "Cycle 33:\n",
      "......o o.....o .o..... oo..... ......o\n",
      "...oo.o o..oo.o .o.oo.. oo.oo.. ...oo.o\n",
      "...oo.o o..oo.o .o.oo.. oo.oo.. ...oo.o\n",
      "\n",
      "Cycle 34:\n",
      "oo..oo. oo.o... oo.oo.. oo...o. oo..oo.\n",
      "....oo. ...o... ...oo.. .....o. ....oo.\n",
      "oo..oo. oo.o... oo.oo.. oo...o. oo..oo.\n",
      "\n",
      "Cycle 35:\n",
      "o.o.... o.oo... o...o.. o..oo.. o.o....\n",
      "..o...o ..oo..o ....o.o ...oo.o ..o...o\n",
      "o.o...o o.oo..o o...o.o o..oo.o o.o...o\n",
      "\n",
      "Cycle 36:\n",
      "o...o.o o..oo.o o.o...o o.oo..o o...o.o\n",
      "....o.o ...oo.o ..o...o ..oo..o ....o.o\n",
      "o...o.. o..oo.. o.o.... o.oo... o...o..\n",
      "\n",
      "Cycle 37:\n",
      "o.o...o ..o..o. ..o..oo o.o.... o.o...o\n",
      "o..o..o ...o.o. ...o.oo o..o... o..o..o\n",
      "o.oo..o ..oo.o. ..oo.oo o.oo... o.oo..o\n",
      "\n",
      "Cycle 38:\n",
      ".oo.oo. .oo...o .oo..oo .oo.o.. .oo.oo.\n",
      ".o..oo. .o....o .o...oo .o..o.. .o..oo.\n",
      "..o.oo. ..o...o ..o..oo ..o.o.. ..o.oo.\n",
      "\n",
      "Cycle 39:\n",
      "..o.oo. .oo.oo. o...oo. oo..oo. ..o.oo.\n",
      "..o.oo. .oo.oo. o...oo. oo..oo. ..o.oo.\n",
      "..o.... .oo.... o...... oo..... ..o....\n",
      "\n",
      "Cycle 40:\n",
      "oo..o.. ....o.o o...o.o .o..o.. oo..o..\n",
      "oo.o... ...o..o o..o..o .o.o... oo.o...\n",
      "oo.oo.. ...oo.o o..oo.o .o.oo.. oo.oo..\n",
      "\n",
      "Cycle 41:\n",
      ".oo.o.. .oo.oo. .oo...o .oo..oo .oo.o..\n",
      "..o.o.. ..o.oo. ..o...o ..o..oo ..o.o..\n",
      ".o..o.. .o..oo. .o....o .o...oo .o..o..\n",
      "\n",
      "Cycle 42:\n",
      ".....o. .....oo o...... o.....o .....o.\n",
      "..oo.o. ..oo.oo o.oo... o.oo..o ..oo.o.\n",
      "..oo.o. ..oo.oo o.oo... o.oo..o ..oo.o.\n",
      "\n",
      "Cycle 43:\n",
      ".oo.oo. o...oo. oo..oo. ..o.oo. .oo.oo.\n",
      ".oo.... o...... oo..... ..o.... .oo....\n",
      ".oo.oo. o...oo. oo..oo. ..o.oo. .oo.oo.\n",
      "\n",
      "Cycle 44:\n",
      "...oo.o o..oo.o .o.oo.. oo.oo.. ...oo.o\n",
      "......o o.....o .o..... oo..... ......o\n",
      "...oo.o o..oo.o .o.oo.. oo.oo.. ...oo.o\n",
      "\n",
      "Cycle 45:\n",
      "..o.... .oo.... o...... oo..... ..o....\n",
      "..o.oo. .oo.oo. o...oo. oo..oo. ..o.oo.\n",
      "..o.oo. .oo.oo. o...oo. oo..oo. ..o.oo.\n",
      "\n"
     ]
    }
   ],
   "source": [
    "visited = set()\n",
    "count = 0\n",
    "for pattern in oscillators:\n",
    "    # Skip patterns that already appeared in some cycle\n",
    "    if pattern in visited:\n",
    "        continue\n",
    "    # Compute the period\n",
    "    first_rep, period = detect_cycle(pattern)\n",
    "    history = [pattern]\n",
    "    for i in range(period):\n",
    "        pattern = pattern.step()\n",
    "        history.append(pattern)\n",
    "    count += 1\n",
    "    print('Cycle {}:'.format(count))\n",
    "    print_history(history)\n",
    "    # Add all patterns in history to visited\n",
    "    for pattern in history:\n",
    "        visited.add(pattern)\n",
    "    print()    "
   ]
  },
  {
   "cell_type": "markdown",
   "metadata": {},
   "source": [
    "We conclude that the patterns found break down in 45 disjoint cycles. We emphasize again that this is not an accurate count of all oscillators, due to the way our code treats symmetric patterns. It is curious to observe that all oscillators for $n=7$ have period 4 or 7."
   ]
  },
  {
   "cell_type": "code",
   "execution_count": null,
   "metadata": {},
   "outputs": [],
   "source": []
  }
 ],
 "metadata": {
  "kernelspec": {
   "display_name": "xpython",
   "language": "python",
   "name": "xpython"
  },
  "language_info": {
   "file_extension": ".py",
   "mimetype": "text/x-python",
   "name": "python",
   "version": "3.7.6"
  }
 },
 "nbformat": 4,
 "nbformat_minor": 4
}
